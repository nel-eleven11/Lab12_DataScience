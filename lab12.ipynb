{
 "cells": [
  {
   "cell_type": "markdown",
   "id": "81a823c0",
   "metadata": {},
   "source": [
    "# Laboratorio 12 - Data Science\n",
    "## Proyecto de Consultoría Clustering\n",
    "\n",
    "- Nelson García\n",
    "- Christian Echeverría"
   ]
  },
  {
   "cell_type": "markdown",
   "id": "bedc1c18",
   "metadata": {},
   "source": []
  },
  {
   "cell_type": "code",
   "execution_count": null,
   "id": "c84b2171",
   "metadata": {
    "vscode": {
     "languageId": "plaintext"
    }
   },
   "outputs": [],
   "source": [
    "!pip -q install pyspark"
   ]
  },
  {
   "cell_type": "code",
   "execution_count": null,
   "id": "2c8558c4",
   "metadata": {
    "vscode": {
     "languageId": "plaintext"
    }
   },
   "outputs": [],
   "source": [
    "from pyspark.sql import SparkSession\n",
    "import pandas as pd\n",
    "import seaborn as sns\n",
    "import matplotlib.pyplot as plt\n",
    "\n",
    "spark = SparkSession.builder.appName(\"Lab 12\").getOrCreate()\n",
    "print(\"Spark version:\", spark.version)"
   ]
  },
  {
   "cell_type": "code",
   "execution_count": null,
   "id": "f0030c66",
   "metadata": {
    "vscode": {
     "languageId": "plaintext"
    }
   },
   "outputs": [],
   "source": [
    "file_path = 'hack_data.csv'\n",
    "\n",
    "df = (\n",
    "    spark.read\n",
    "         .option(\"header\", True)\n",
    "         .option(\"inferSchema\", True)\n",
    "         .csv(file_path)\n",
    ")\n",
    "\n",
    "# Ver las primeras filas del dataframe\n",
    "df.show(5)"
   ]
  },
  {
   "cell_type": "code",
   "execution_count": null,
   "id": "30c2df0d",
   "metadata": {
    "vscode": {
     "languageId": "plaintext"
    }
   },
   "outputs": [],
   "source": [
    "df.printSchema()\n"
   ]
  }
 ],
 "metadata": {
  "language_info": {
   "name": "python"
  }
 },
 "nbformat": 4,
 "nbformat_minor": 5
}
